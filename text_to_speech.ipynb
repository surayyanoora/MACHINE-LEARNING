{
 "cells": [
  {
   "cell_type": "code",
   "execution_count": 1,
   "id": "6a54c58c-9470-4553-9dc9-a5a6716f2ec9",
   "metadata": {},
   "outputs": [
    {
     "name": "stdout",
     "output_type": "stream",
     "text": [
      "Collecting gtts\n",
      "  Downloading gTTS-2.5.2-py3-none-any.whl.metadata (4.1 kB)\n",
      "Requirement already satisfied: requests<3,>=2.27 in c:\\users\\yoga\\anaconda3\\lib\\site-packages (from gtts) (2.31.0)\n",
      "Requirement already satisfied: click<8.2,>=7.1 in c:\\users\\yoga\\anaconda3\\lib\\site-packages (from gtts) (8.1.7)\n",
      "Requirement already satisfied: colorama in c:\\users\\yoga\\anaconda3\\lib\\site-packages (from click<8.2,>=7.1->gtts) (0.4.6)\n",
      "Requirement already satisfied: charset-normalizer<4,>=2 in c:\\users\\yoga\\anaconda3\\lib\\site-packages (from requests<3,>=2.27->gtts) (2.0.4)\n",
      "Requirement already satisfied: idna<4,>=2.5 in c:\\users\\yoga\\anaconda3\\lib\\site-packages (from requests<3,>=2.27->gtts) (3.4)\n",
      "Requirement already satisfied: urllib3<3,>=1.21.1 in c:\\users\\yoga\\anaconda3\\lib\\site-packages (from requests<3,>=2.27->gtts) (2.0.7)\n",
      "Requirement already satisfied: certifi>=2017.4.17 in c:\\users\\yoga\\anaconda3\\lib\\site-packages (from requests<3,>=2.27->gtts) (2024.2.2)\n",
      "Downloading gTTS-2.5.2-py3-none-any.whl (29 kB)\n",
      "Installing collected packages: gtts\n",
      "Successfully installed gtts-2.5.2\n",
      "Note: you may need to restart the kernel to use updated packages.\n"
     ]
    }
   ],
   "source": [
    "pip install gtts"
   ]
  },
  {
   "cell_type": "code",
   "execution_count": 2,
   "id": "59e04698-d27b-4024-a86e-9a4ce4bba4ef",
   "metadata": {},
   "outputs": [],
   "source": [
    "from gtts import gTTS\n",
    "import os"
   ]
  },
  {
   "cell_type": "markdown",
   "id": "f63038fc-d876-4868-b685-d248896deeac",
   "metadata": {},
   "source": [
    "gtts is the google text to speech library use to convert text to speech \n",
    "OS is a standard library in python that provides a way of using operating system dependent"
   ]
  },
  {
   "cell_type": "code",
   "execution_count": 4,
   "id": "7a063465-20a3-4e3e-9fac-2c7ec45ed9e8",
   "metadata": {},
   "outputs": [
    {
     "name": "stdout",
     "output_type": "stream",
     "text": [
      "Saved TTS to output.mp3\n"
     ]
    }
   ],
   "source": [
    "def text_to_speech(text,output_file):\n",
    "    #Convert text to speech\n",
    "    tts = gTTS(text=text,lang='en')\n",
    "    #save the speech to an audio file\n",
    "    tts.save(output_file)\n",
    "    print(f\"Saved TTS to {output_file}\")\n",
    "    #play the audio file(windows)\n",
    "    os.system(f\"start {output_file}\")\n",
    "\n",
    "if __name__==\"__main__\":\n",
    "    #Define the text to be converted to speech\n",
    "    text = \"bibi mon happy alleeeeeeeeeeeeee\"\n",
    "    #Define the output file name\n",
    "    output_file=\"output.mp3\"\n",
    "    #Call the function\n",
    "    text_to_speech(text,output_file)"
   ]
  },
  {
   "cell_type": "markdown",
   "id": "0b1765f6-84da-46b3-9542-74d82ff11433",
   "metadata": {},
   "source": [
    "This block checks if the script is being run directly (not imported as a module in another script).\n",
    "It defines the text to be converted and the name of the output file.\n",
    "It calls the text_to_speech function with the defined text and output file name."
   ]
  },
  {
   "cell_type": "code",
   "execution_count": 5,
   "id": "a9221af2-e8dd-4eee-b3b0-b5e75fd9f7f7",
   "metadata": {},
   "outputs": [
    {
     "name": "stdout",
     "output_type": "stream",
     "text": [
      "Collecting pyttsx3Note: you may need to restart the kernel to use updated packages.\n",
      "\n",
      "  Downloading pyttsx3-2.90-py3-none-any.whl.metadata (3.6 kB)\n",
      "Collecting comtypes (from pyttsx3)\n",
      "  Downloading comtypes-1.4.5-py3-none-any.whl.metadata (6.4 kB)\n",
      "Collecting pypiwin32 (from pyttsx3)\n",
      "  Downloading pypiwin32-223-py3-none-any.whl.metadata (236 bytes)\n",
      "Requirement already satisfied: pywin32 in c:\\users\\yoga\\anaconda3\\lib\\site-packages (from pyttsx3) (305.1)\n",
      "Downloading pyttsx3-2.90-py3-none-any.whl (39 kB)\n",
      "Downloading comtypes-1.4.5-py3-none-any.whl (219 kB)\n",
      "   ---------------------------------------- 0.0/219.4 kB ? eta -:--:--\n",
      "   ------- ------------------------------- 41.0/219.4 kB 960.0 kB/s eta 0:00:01\n",
      "   -------------------- ------------------- 112.6/219.4 kB 1.1 MB/s eta 0:00:01\n",
      "   ---------------------------------------  215.0/219.4 kB 1.5 MB/s eta 0:00:01\n",
      "   ---------------------------------------- 219.4/219.4 kB 1.2 MB/s eta 0:00:00\n",
      "Downloading pypiwin32-223-py3-none-any.whl (1.7 kB)\n",
      "Installing collected packages: pypiwin32, comtypes, pyttsx3\n",
      "Successfully installed comtypes-1.4.5 pypiwin32-223 pyttsx3-2.90\n"
     ]
    }
   ],
   "source": [
    "pip install pyttsx3"
   ]
  },
  {
   "cell_type": "code",
   "execution_count": 6,
   "id": "147b7974-8057-4105-81b5-91c4e037f95b",
   "metadata": {},
   "outputs": [],
   "source": [
    "import pyttsx3\n",
    "import os"
   ]
  },
  {
   "cell_type": "code",
   "execution_count": 12,
   "id": "5198adfb-dfcb-4af3-a02a-7cf3d89adfb3",
   "metadata": {},
   "outputs": [
    {
     "name": "stdout",
     "output_type": "stream",
     "text": [
      "Saved TTS to output.mp3\n"
     ]
    }
   ],
   "source": [
    "def text_to_speech(text,output_file):\n",
    "    #initialising the TTs engine\n",
    "    engine = pyttsx3.init()\n",
    "\n",
    "    #Set properties (optional)\n",
    "    engine.setProperty('rate',150)#speed of speech\n",
    "    engine.setProperty('volume',1)#volume level (0.0 to 1.0)\n",
    "\n",
    "    #save the speech to an audio file\n",
    "    engine.save_to_file(text, output_file)\n",
    "\n",
    "    #Run the speech engine\n",
    "    engine.runAndWait()\n",
    "\n",
    "    print(f\"Saved TTS to {output_file}\")\n",
    "\n",
    "    #play the audio file (windows)\n",
    "    os.system(f\"Start {output_file}\")\n",
    "\n",
    "if __name__== \"__main__\":\n",
    "    #Define the text to be converted to speech\n",
    "    text =\" are you happy now\"\n",
    "    #Define the output file name\n",
    "    output_file=\"output.mp3\"\n",
    "    #Call the function\n",
    "    text_to_speech(text,output_file)"
   ]
  },
  {
   "cell_type": "markdown",
   "id": "f59b43cd-bf4b-436e-99bb-a24c885c46d3",
   "metadata": {},
   "source": [
    "pyttsx3 is used for text-to-speech conversion.\n",
    "os is used to interact with the operating system to play the audio file.\n",
    "\n",
    "\n",
    "pyttsx3.init() initializes the text-to-speech engine. This engine will handle the conversion of text to speech.\n",
    "\n",
    "\n",
    "Set Properties (Optional):\n",
    "engine.setProperty('rate', 150): This sets the speed of the speech. The value 150 is the words per minute. You can adjust this to make the speech faster or slower.\n",
    "engine.setProperty('volume', 1): This sets the volume level of the speech\n",
    "The value 1 represents the maximum volume. You can set it between 0.0 (minimum) and 1.0 (maximum)\r\n",
    "    \r\n",
    "    \r\n",
    "Save Speech to an Audio File:\r\n",
    "engine.save_to_file(text, output_file): This method converts the given text to speech and saves it to the specified file (output_file). In this case, it saves the audio as output.mp3.    .\r\n",
    "    \r\n",
    "   \r\n",
    "Run the Speech Engine:\r\n",
    "engine.runAndWait(): This function processes all the currently queued commands, which includes converting the text to speech and savi the file. It ensures that the conversion and saving are completed before the program procee\r\n",
    "    \r\n",
    "Print Confirmation:\r\n",
    "print(f\"Saved TTS to {output_file}\"): This prints a confirmation message to the console, indicating that the text-to-speech conversion has been saved to the specified file.\r\n",
    "\r\n",
    "    \r\n",
    "Play the Audio File (Windows):\r\n",
    "os.system(f\"start {output_file}\"): This uses the os module to execute the system command start, which opens the specified file (output_file) using the default media. playerng it to"
   ]
  }
 ],
 "metadata": {
  "kernelspec": {
   "display_name": "Python 3 (ipykernel)",
   "language": "python",
   "name": "python3"
  },
  "language_info": {
   "codemirror_mode": {
    "name": "ipython",
    "version": 3
   },
   "file_extension": ".py",
   "mimetype": "text/x-python",
   "name": "python",
   "nbconvert_exporter": "python",
   "pygments_lexer": "ipython3",
   "version": "3.11.7"
  }
 },
 "nbformat": 4,
 "nbformat_minor": 5
}
