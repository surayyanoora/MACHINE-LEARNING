{
 "cells": [
  {
   "cell_type": "code",
   "execution_count": null,
   "id": "e99b99bb-77da-451a-a058-b933bcce4277",
   "metadata": {},
   "outputs": [],
   "source": [
    "import cv2"
   ]
  },
  {
   "cell_type": "code",
   "execution_count": null,
   "id": "bf33738a-0770-43b6-bbe9-203327ae9ec5",
   "metadata": {},
   "outputs": [],
   "source": [
    "facecascade = cv2.CascadeClassifier('haarcascade_frontalface_default.xml')"
   ]
  },
  {
   "cell_type": "code",
   "execution_count": null,
   "id": "fb68fc9e-84f1-4df6-9f9b-2b3ef925a750",
   "metadata": {},
   "outputs": [],
   "source": [
    "image = cv2.imread('smile_face1.jpg')\n",
    "gray = cv2.cvtColor(image,cv2.COLOR_BGR2GRAY)"
   ]
  },
  {
   "cell_type": "code",
   "execution_count": null,
   "id": "aeca74a1-aee3-436f-ae19-3d828afa35a1",
   "metadata": {},
   "outputs": [],
   "source": [
    "faces = facecascade.detectMultiScale(gray,scaleFactor=1.1,minNeighbors=2,minSize=(30,30))"
   ]
  },
  {
   "cell_type": "code",
   "execution_count": null,
   "id": "40ba54f6-b9a7-4592-b85a-446db783b684",
   "metadata": {},
   "outputs": [],
   "source": [
    "print(\"Found {0} faces! \".format(len(faces)))\n",
    "print(faces)\n",
    "\n",
    "for (x,y,w,h) in faces:\n",
    "    cv2.rectangle(image, (x,y),(x+w, y+h),(0,0,255),3)#here 5 is thickness of rectangle box face\n",
    "                                                      # bgr colour"
   ]
  },
  {
   "cell_type": "code",
   "execution_count": null,
   "id": "eeb20762-8ba2-46de-97a6-46006798d99c",
   "metadata": {},
   "outputs": [],
   "source": [
    "cv2.imshow(\"faces\",image)\n",
    "cv2.waitKey(0)\n",
    "cv2.destroyAllWindows()"
   ]
  },
  {
   "cell_type": "markdown",
   "id": "4bf74442-7ff3-4a10-80a0-901d770169f5",
   "metadata": {},
   "source": [
    "\n",
    "cv2CascadeClassifier: This is a class in the OpenCV library used for object detection using Haar-like features.It's specifically designed to detect various objects based on pretrained XML classifiers.\n",
    "\n",
    "('haarcascase_frontalface_default_xml'):This is the file path or the name of the XML file containing the pre-trained model for detecting frontal faces.This XML file includes necessary information to detect faces using the Haar Cascade method.\n",
    "\n",
    "face_clsfr:This is a variable used to store the initia\n",
    "keep Pinned.So,this line of code esentially loads a pre trained model\n",
    "(In this case,a frontal face detection model)into the face_clsfr variable,allowing you to use it to detect faces in images,videos frames,Once initialized,you can use this classifier to detect faces by passing images or frames through it\n"
   ]
  },
  {
   "cell_type": "code",
   "execution_count": null,
   "id": "74bfbb77-657b-4c7d-9cd2-6b6dc4a08086",
   "metadata": {},
   "outputs": [],
   "source": []
  }
 ],
 "metadata": {
  "kernelspec": {
   "display_name": "Python 3 (ipykernel)",
   "language": "python",
   "name": "python3"
  },
  "language_info": {
   "codemirror_mode": {
    "name": "ipython",
    "version": 3
   },
   "file_extension": ".py",
   "mimetype": "text/x-python",
   "name": "python",
   "nbconvert_exporter": "python",
   "pygments_lexer": "ipython3",
   "version": "3.11.7"
  }
 },
 "nbformat": 4,
 "nbformat_minor": 5
}
