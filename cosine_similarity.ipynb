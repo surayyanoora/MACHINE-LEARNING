{
 "cells": [
  {
   "cell_type": "code",
   "execution_count": 1,
   "id": "fad244ce",
   "metadata": {},
   "outputs": [],
   "source": [
    "#To understand and implement cosine similarity, a metric used to measure the similarity between two vectors\n",
    "\n",
    "#Task: Write a Python function to calculate the cosine similarity between two vectors."
   ]
  },
  {
   "cell_type": "code",
   "execution_count": 2,
   "id": "a8f9caf4",
   "metadata": {},
   "outputs": [],
   "source": [
    "import numpy as np\n",
    "from numpy.linalg import norm\n",
    " \n"
   ]
  },
  {
   "cell_type": "markdown",
   "id": "10ba7786",
   "metadata": {},
   "source": [
    "## array"
   ]
  },
  {
   "cell_type": "code",
   "execution_count": 3,
   "id": "84c78b99",
   "metadata": {},
   "outputs": [
    {
     "name": "stdout",
     "output_type": "stream",
     "text": [
      "A: [2 1 2 3 2 9]\n",
      "B: [3 4 2 4 5 5]\n"
     ]
    }
   ],
   "source": [
    "# define two lists or array\n",
    "A = np.array([2,1,2,3,2,9])\n",
    "B = np.array([3,4,2,4,5,5])\n",
    " \n",
    "print(\"A:\", A)\n",
    "print(\"B:\", B)\n",
    " \n"
   ]
  },
  {
   "cell_type": "code",
   "execution_count": 4,
   "id": "3c3b84c4",
   "metadata": {},
   "outputs": [
    {
     "name": "stdout",
     "output_type": "stream",
     "text": [
      "Cosine Similarity: 0.8188504723485274\n"
     ]
    }
   ],
   "source": [
    "# compute cosine similarity\n",
    "cosine = np.dot(A,B)/(norm(A)*norm(B))\n",
    "print(\"Cosine Similarity:\", cosine)"
   ]
  },
  {
   "cell_type": "markdown",
   "id": "d5a72258",
   "metadata": {},
   "source": [
    "## matrix"
   ]
  },
  {
   "cell_type": "code",
   "execution_count": 5,
   "id": "e6a89a7c",
   "metadata": {},
   "outputs": [],
   "source": [
    "A = np.array([[1,2,2],\n",
    "               [3,2,2],\n",
    "               [-2,1,-3]])\n",
    "B = np.array([[4,2,4],\n",
    "               [2,-2,5],\n",
    "               [3,4,-4]])"
   ]
  },
  {
   "cell_type": "code",
   "execution_count": 6,
   "id": "c053e7c4",
   "metadata": {},
   "outputs": [
    {
     "name": "stdout",
     "output_type": "stream",
     "text": [
      "A:\n",
      " [[ 1  2  2]\n",
      " [ 3  2  2]\n",
      " [-2  1 -3]]\n",
      "B:\n",
      " [[ 4  2  4]\n",
      " [ 2 -2  5]\n",
      " [ 3  4 -4]]\n"
     ]
    }
   ],
   "source": [
    "print(\"A:\\n\", A)\n",
    "print(\"B:\\n\", B)\n",
    " "
   ]
  },
  {
   "cell_type": "code",
   "execution_count": 7,
   "id": "1bd37e66",
   "metadata": {},
   "outputs": [
    {
     "name": "stdout",
     "output_type": "stream",
     "text": [
      "Cosine Similarity:\n",
      " [0.88888889 0.5066404  0.41739194]\n",
      "Cosine Similarity:\n",
      " [0.88888889 0.5066404  0.41739194]\n"
     ]
    }
   ],
   "source": [
    "cosine = np.sum(A*B, axis=1)/(norm(A, axis=1)*norm(B, axis=1))\n",
    " \n",
    "print(\"Cosine Similarity:\\n\", cosine)\n",
    "print(\"Cosine Similarity:\\n\", cosine)"
   ]
  },
  {
   "cell_type": "code",
   "execution_count": null,
   "id": "7a5ca6d5",
   "metadata": {},
   "outputs": [],
   "source": []
  }
 ],
 "metadata": {
  "kernelspec": {
   "display_name": "Python 3 (ipykernel)",
   "language": "python",
   "name": "python3"
  },
  "language_info": {
   "codemirror_mode": {
    "name": "ipython",
    "version": 3
   },
   "file_extension": ".py",
   "mimetype": "text/x-python",
   "name": "python",
   "nbconvert_exporter": "python",
   "pygments_lexer": "ipython3",
   "version": "3.11.5"
  }
 },
 "nbformat": 4,
 "nbformat_minor": 5
}
