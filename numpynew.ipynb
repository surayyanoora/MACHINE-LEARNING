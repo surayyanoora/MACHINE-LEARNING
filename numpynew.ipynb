{
 "cells": [
  {
   "cell_type": "code",
   "execution_count": 1,
   "id": "cfa3c0f5",
   "metadata": {},
   "outputs": [],
   "source": [
    "# numpy-for array "
   ]
  },
  {
   "cell_type": "code",
   "execution_count": 2,
   "id": "42d05481",
   "metadata": {},
   "outputs": [
    {
     "name": "stdout",
     "output_type": "stream",
     "text": [
      "Requirement already satisfied: numpy in c:\\users\\yoga\\anaconda3\\lib\\site-packages (1.24.3)\n"
     ]
    }
   ],
   "source": [
    "!pip3 install numpy"
   ]
  },
  {
   "cell_type": "code",
   "execution_count": 3,
   "id": "805a669c",
   "metadata": {},
   "outputs": [],
   "source": [
    "import numpy as np"
   ]
  },
  {
   "cell_type": "code",
   "execution_count": 5,
   "id": "429ce524",
   "metadata": {},
   "outputs": [
    {
     "name": "stdout",
     "output_type": "stream",
     "text": [
      "<class 'list'>\n",
      "[3, 45, 4, 7, 78, 77]\n"
     ]
    }
   ],
   "source": [
    "lst = [3,45,4,7,78,77]\n",
    "print(type(lst))\n",
    "print(lst)"
   ]
  },
  {
   "cell_type": "code",
   "execution_count": 6,
   "id": "2eddc617",
   "metadata": {},
   "outputs": [
    {
     "name": "stdout",
     "output_type": "stream",
     "text": [
      "<class 'numpy.ndarray'>\n",
      "[ 3 45  4  7 78 77]\n"
     ]
    }
   ],
   "source": [
    "a = np.array([3,45,4,7,78,77])\n",
    "print(type(a))\n",
    "print(a)"
   ]
  },
  {
   "cell_type": "code",
   "execution_count": 7,
   "id": "570795f0",
   "metadata": {},
   "outputs": [
    {
     "name": "stdout",
     "output_type": "stream",
     "text": [
      "<class 'numpy.ndarray'>\n",
      "[ 3 45  4  7 78 77]\n"
     ]
    }
   ],
   "source": [
    "tup = (3,45,4,7,78,77)\n",
    "a = np.array(tup)\n",
    "print(type(a))\n",
    "print(a)"
   ]
  },
  {
   "cell_type": "code",
   "execution_count": 13,
   "id": "35a23e5b",
   "metadata": {},
   "outputs": [
    {
     "name": "stdout",
     "output_type": "stream",
     "text": [
      "[[4 5 8 4]\n",
      " [6 3 2 1]\n",
      " [8 4 2 6]]\n",
      "3\n",
      "<class 'numpy.ndarray'>\n"
     ]
    }
   ],
   "source": [
    "a= np.array([[4,5,8,4],[6,3,2,1],[8,4,2,6]])\n",
    "print(a)\n",
    "print(a[1][1])\n",
    "print(type(a))"
   ]
  },
  {
   "cell_type": "markdown",
   "id": "215b7bf6",
   "metadata": {},
   "source": [
    "# zeros,ones,arrange"
   ]
  },
  {
   "cell_type": "code",
   "execution_count": 14,
   "id": "d4f0f11a",
   "metadata": {},
   "outputs": [
    {
     "data": {
      "text/plain": [
       "array([0., 0., 0., 0., 0.])"
      ]
     },
     "execution_count": 14,
     "metadata": {},
     "output_type": "execute_result"
    }
   ],
   "source": [
    "np.zeros(5)"
   ]
  },
  {
   "cell_type": "code",
   "execution_count": 16,
   "id": "2a44c41f",
   "metadata": {},
   "outputs": [
    {
     "data": {
      "text/plain": [
       "array([[0., 0., 0.],\n",
       "       [0., 0., 0.],\n",
       "       [0., 0., 0.],\n",
       "       [0., 0., 0.],\n",
       "       [0., 0., 0.]])"
      ]
     },
     "execution_count": 16,
     "metadata": {},
     "output_type": "execute_result"
    }
   ],
   "source": [
    "np.zeros((5,3))"
   ]
  },
  {
   "cell_type": "code",
   "execution_count": 17,
   "id": "b8eec58a",
   "metadata": {},
   "outputs": [
    {
     "data": {
      "text/plain": [
       "array([1., 1., 1.])"
      ]
     },
     "execution_count": 17,
     "metadata": {},
     "output_type": "execute_result"
    }
   ],
   "source": [
    "np.ones(3)"
   ]
  },
  {
   "cell_type": "code",
   "execution_count": 19,
   "id": "d8169813",
   "metadata": {},
   "outputs": [
    {
     "data": {
      "text/plain": [
       "array([[1., 1., 1.],\n",
       "       [1., 1., 1.],\n",
       "       [1., 1., 1.],\n",
       "       [1., 1., 1.]])"
      ]
     },
     "execution_count": 19,
     "metadata": {},
     "output_type": "execute_result"
    }
   ],
   "source": [
    "np.ones((4,3))"
   ]
  },
  {
   "cell_type": "code",
   "execution_count": 22,
   "id": "24620603",
   "metadata": {},
   "outputs": [
    {
     "data": {
      "text/plain": [
       "array([0, 1, 2, 3, 4])"
      ]
     },
     "execution_count": 22,
     "metadata": {},
     "output_type": "execute_result"
    }
   ],
   "source": [
    "np.arange(5)"
   ]
  },
  {
   "cell_type": "code",
   "execution_count": 24,
   "id": "921a439a",
   "metadata": {},
   "outputs": [
    {
     "data": {
      "text/plain": [
       "array([1, 3, 5, 7, 9])"
      ]
     },
     "execution_count": 24,
     "metadata": {},
     "output_type": "execute_result"
    }
   ],
   "source": [
    "np.arange(1,10,2)"
   ]
  },
  {
   "cell_type": "code",
   "execution_count": 28,
   "id": "e9be4090",
   "metadata": {},
   "outputs": [
    {
     "data": {
      "text/plain": [
       "array([ 0.,  5., 10.])"
      ]
     },
     "execution_count": 28,
     "metadata": {},
     "output_type": "execute_result"
    }
   ],
   "source": [
    "np.linspace(0,10,num=3)"
   ]
  },
  {
   "cell_type": "code",
   "execution_count": 31,
   "id": "c5003fb0",
   "metadata": {},
   "outputs": [
    {
     "data": {
      "text/plain": [
       "array([0, 1, 3, 4, 5, 6, 9])"
      ]
     },
     "execution_count": 31,
     "metadata": {},
     "output_type": "execute_result"
    }
   ],
   "source": [
    "arr= [3,5,4,1,9,6,0]\n",
    "np.sort(arr)"
   ]
  },
  {
   "cell_type": "code",
   "execution_count": 32,
   "id": "6530d19c",
   "metadata": {},
   "outputs": [
    {
     "data": {
      "text/plain": [
       "array([4, 5, 2, 3, 8, 6, 0, 1])"
      ]
     },
     "execution_count": 32,
     "metadata": {},
     "output_type": "execute_result"
    }
   ],
   "source": [
    "a= np.array([4,5,2,3])\n",
    "b= np.array([8,6,0,1])\n",
    "np.concatenate((a,b))"
   ]
  },
  {
   "cell_type": "code",
   "execution_count": 34,
   "id": "7c590b20",
   "metadata": {},
   "outputs": [
    {
     "name": "stdout",
     "output_type": "stream",
     "text": [
      "[[1 2]\n",
      " [3 4]]\n"
     ]
    }
   ],
   "source": [
    "x= np.array([[1,2],[3,4]])\n",
    "print(x)"
   ]
  },
  {
   "cell_type": "code",
   "execution_count": 44,
   "id": "85a4788f",
   "metadata": {},
   "outputs": [
    {
     "name": "stdout",
     "output_type": "stream",
     "text": [
      "[[1 2]\n",
      " [3 4]]\n",
      "_____________________________\n",
      "[[5 6]]\n",
      "_____________________________\n",
      "[[5]\n",
      " [6]]\n",
      "_____________________________\n",
      "[[1 2]\n",
      " [3 4]\n",
      " [5 6]]\n",
      "_____________________________\n",
      "[[1 2 5]\n",
      " [3 4 6]]\n"
     ]
    }
   ],
   "source": [
    "x= np.array([[1,2],[3,4]])\n",
    "y=np.array([[5,6]])\n",
    "print(x)\n",
    "print(\"_____________________________\")\n",
    "print(y)\n",
    "print(\"_____________________________\")\n",
    "print(y.T)\n",
    "print(\"_____________________________\")\n",
    "\n",
    "print(np.concatenate((x,y),axis=0))\n",
    "print(\"_____________________________\")\n",
    "print(np.concatenate((x,y.T),axis=1))"
   ]
  },
  {
   "cell_type": "code",
   "execution_count": 47,
   "id": "3344a6cc",
   "metadata": {},
   "outputs": [
    {
     "name": "stdout",
     "output_type": "stream",
     "text": [
      "[[[0 1 2 3 4]\n",
      "  [5 6 7 8 9]]\n",
      "\n",
      " [[0 1 2 3 4]\n",
      "  [5 6 7 8 9]]\n",
      "\n",
      " [[0 1 2 3 4]\n",
      "  [5 6 7 8 9]]]\n"
     ]
    }
   ],
   "source": [
    "x= np.array([[[0,1,2,3,4],\n",
    "            [5,6,7,8,9]],\n",
    "           \n",
    "           [[0,1,2,3,4],\n",
    "            [5,6,7,8,9]],\n",
    "            \n",
    "            [[0,1,2,3,4],\n",
    "            [5,6,7,8,9]]])\n",
    "print(x)"
   ]
  },
  {
   "cell_type": "code",
   "execution_count": 53,
   "id": "b15939dc",
   "metadata": {},
   "outputs": [
    {
     "name": "stdout",
     "output_type": "stream",
     "text": [
      "[[[0 1 2 3 4]\n",
      "  [5 6 7 8 9]]\n",
      "\n",
      " [[0 1 2 3 4]\n",
      "  [5 6 7 8 9]]\n",
      "\n",
      " [[0 1 2 3 4]\n",
      "  [5 6 7 8 9]]]\n"
     ]
    },
    {
     "data": {
      "text/plain": [
       "3"
      ]
     },
     "execution_count": 53,
     "metadata": {},
     "output_type": "execute_result"
    }
   ],
   "source": [
    "x= np.array([[[0,1,2,3,4],\n",
    "            [5,6,7,8,9]],\n",
    "           \n",
    "           [[0,1,2,3,4],\n",
    "            [5,6,7,8,9]],\n",
    "            \n",
    "            [[0,1,2,3,4],\n",
    "            [5,6,7,8,9]]])\n",
    "print(x)\n",
    "x.ndim\n"
   ]
  },
  {
   "cell_type": "code",
   "execution_count": 51,
   "id": "1c789ca5",
   "metadata": {},
   "outputs": [
    {
     "data": {
      "text/plain": [
       "(3, 2, 5)"
      ]
     },
     "execution_count": 51,
     "metadata": {},
     "output_type": "execute_result"
    }
   ],
   "source": [
    "x.shape\n"
   ]
  },
  {
   "cell_type": "code",
   "execution_count": 52,
   "id": "f999bd02",
   "metadata": {},
   "outputs": [
    {
     "data": {
      "text/plain": [
       "30"
      ]
     },
     "execution_count": 52,
     "metadata": {},
     "output_type": "execute_result"
    }
   ],
   "source": [
    "x.size"
   ]
  },
  {
   "cell_type": "code",
   "execution_count": 54,
   "id": "1758f09f",
   "metadata": {},
   "outputs": [
    {
     "name": "stdout",
     "output_type": "stream",
     "text": [
      "[0 1 2 3 4 5]\n"
     ]
    }
   ],
   "source": [
    "a = np.arange(6)\n",
    "print(a)"
   ]
  },
  {
   "cell_type": "code",
   "execution_count": 55,
   "id": "ff6f02ba",
   "metadata": {},
   "outputs": [
    {
     "name": "stdout",
     "output_type": "stream",
     "text": [
      "[[0 1 2]\n",
      " [3 4 5]]\n"
     ]
    }
   ],
   "source": [
    "b = a.reshape(2,3)\n",
    "print(b)"
   ]
  },
  {
   "cell_type": "code",
   "execution_count": 56,
   "id": "25f7f3f9",
   "metadata": {},
   "outputs": [
    {
     "ename": "ValueError",
     "evalue": "cannot reshape array of size 6 into shape (2,5)",
     "output_type": "error",
     "traceback": [
      "\u001b[1;31m---------------------------------------------------------------------------\u001b[0m",
      "\u001b[1;31mValueError\u001b[0m                                Traceback (most recent call last)",
      "Cell \u001b[1;32mIn[56], line 1\u001b[0m\n\u001b[1;32m----> 1\u001b[0m b \u001b[38;5;241m=\u001b[39m a\u001b[38;5;241m.\u001b[39mreshape(\u001b[38;5;241m2\u001b[39m,\u001b[38;5;241m5\u001b[39m)\n\u001b[0;32m      2\u001b[0m \u001b[38;5;28mprint\u001b[39m(b)\n",
      "\u001b[1;31mValueError\u001b[0m: cannot reshape array of size 6 into shape (2,5)"
     ]
    }
   ],
   "source": [
    "b = a.reshape(2,5)\n",
    "print(b)"
   ]
  },
  {
   "cell_type": "code",
   "execution_count": 62,
   "id": "fb1cd681",
   "metadata": {},
   "outputs": [
    {
     "name": "stdout",
     "output_type": "stream",
     "text": [
      "[[1 2 3 4 5]\n",
      " [6 0 0 0 0]]\n"
     ]
    }
   ],
   "source": [
    "a=np.array([1,2,3,4,5,6])\n",
    "a.resize(2,5)\n",
    "print(a)"
   ]
  },
  {
   "cell_type": "markdown",
   "id": "b6e22705",
   "metadata": {},
   "source": [
    "# n dimensional array"
   ]
  },
  {
   "cell_type": "code",
   "execution_count": 63,
   "id": "e8d9b8cc",
   "metadata": {},
   "outputs": [
    {
     "name": "stdout",
     "output_type": "stream",
     "text": [
      "[1 2 3 4 5 6]\n",
      "(6,)\n",
      "1\n"
     ]
    }
   ],
   "source": [
    "a=np.array([1,2,3,4,5,6])\n",
    "print(a)\n",
    "print(a.shape)\n",
    "print(a.ndim)"
   ]
  },
  {
   "cell_type": "code",
   "execution_count": 64,
   "id": "019a6219",
   "metadata": {},
   "outputs": [
    {
     "name": "stdout",
     "output_type": "stream",
     "text": [
      "[[1 2 3 4 5 6]]\n",
      "(1, 6)\n",
      "2\n"
     ]
    }
   ],
   "source": [
    "a2=a[np.newaxis,:]\n",
    "print(a2)\n",
    "print(a2.shape)\n",
    "print(a2.ndim)"
   ]
  },
  {
   "cell_type": "code",
   "execution_count": 66,
   "id": "3baeecb1",
   "metadata": {},
   "outputs": [
    {
     "name": "stdout",
     "output_type": "stream",
     "text": [
      "[[[1 2 3 4 5 6]]]\n",
      "(1, 1, 6)\n",
      "3\n"
     ]
    }
   ],
   "source": [
    "a3=a2[np.newaxis,:]\n",
    "print(a3)\n",
    "print(a3.shape)\n",
    "print(a3.ndim)"
   ]
  },
  {
   "cell_type": "code",
   "execution_count": 69,
   "id": "2f524a93",
   "metadata": {},
   "outputs": [
    {
     "name": "stdout",
     "output_type": "stream",
     "text": [
      "[[1 2 3 4 5 6]]\n",
      "(1, 6)\n"
     ]
    }
   ],
   "source": [
    "row_vector=np.array([1,2,3,4,5,6])\n",
    "row_vector=a[np.newaxis,:]\n",
    "print(row_vector)\n",
    "print(row_vector.shape)\n"
   ]
  },
  {
   "cell_type": "code",
   "execution_count": 70,
   "id": "7a89e329",
   "metadata": {},
   "outputs": [
    {
     "name": "stdout",
     "output_type": "stream",
     "text": [
      "[[1]\n",
      " [2]\n",
      " [3]\n",
      " [4]\n",
      " [5]\n",
      " [6]]\n",
      "(6, 1)\n"
     ]
    }
   ],
   "source": [
    "col_vector=np.array([1,2,3,4,5,6])\n",
    "col_vector=a[:,np.newaxis]\n",
    "print(col_vector)\n",
    "print(col_vector.shape)\n"
   ]
  },
  {
   "cell_type": "markdown",
   "id": "13dca81a",
   "metadata": {},
   "source": [
    "# axis=0 colm \n",
    "# axis=1 row\n"
   ]
  },
  {
   "cell_type": "code",
   "execution_count": 71,
   "id": "c480c43f",
   "metadata": {},
   "outputs": [
    {
     "name": "stdout",
     "output_type": "stream",
     "text": [
      "(6, 1)\n",
      "2\n"
     ]
    }
   ],
   "source": [
    "b= np.expand_dims(a,axis=1)\n",
    "print(b.shape)\n",
    "print(b.ndim)"
   ]
  },
  {
   "cell_type": "code",
   "execution_count": 72,
   "id": "b88d1690",
   "metadata": {},
   "outputs": [
    {
     "name": "stdout",
     "output_type": "stream",
     "text": [
      "(1, 6)\n",
      "2\n"
     ]
    }
   ],
   "source": [
    "c= np.expand_dims(a,axis=0)\n",
    "print(c.shape)\n",
    "print(c.ndim)"
   ]
  },
  {
   "cell_type": "code",
   "execution_count": 73,
   "id": "558ff910",
   "metadata": {},
   "outputs": [
    {
     "name": "stdout",
     "output_type": "stream",
     "text": [
      "[1 2 3 4]\n"
     ]
    }
   ],
   "source": [
    "a=np.array([1,2,3,4,5,6])\n",
    "print(a[a<5])"
   ]
  },
  {
   "cell_type": "code",
   "execution_count": 76,
   "id": "d33defd8",
   "metadata": {},
   "outputs": [
    {
     "name": "stdout",
     "output_type": "stream",
     "text": [
      "[2 4 6]\n"
     ]
    }
   ],
   "source": [
    "a=np.array([1,2,3,4,5,6])\n",
    "print(a[a%2==0])"
   ]
  },
  {
   "cell_type": "markdown",
   "id": "9a96aefb",
   "metadata": {},
   "source": [
    "# vertical and horizontal stack"
   ]
  },
  {
   "cell_type": "code",
   "execution_count": 80,
   "id": "2705b5cd",
   "metadata": {},
   "outputs": [
    {
     "data": {
      "text/plain": [
       "array([[1, 1],\n",
       "       [2, 2],\n",
       "       [3, 3],\n",
       "       [4, 4]])"
      ]
     },
     "execution_count": 80,
     "metadata": {},
     "output_type": "execute_result"
    }
   ],
   "source": [
    "a1 = np.array([[1,1],\n",
    "              [2,2]])\n",
    "\n",
    "a2 = np.array([[3,3],\n",
    "              [4,4]])\n",
    "\n",
    "np.vstack((a1,a2))\n"
   ]
  },
  {
   "cell_type": "code",
   "execution_count": 81,
   "id": "113d1d7b",
   "metadata": {},
   "outputs": [
    {
     "data": {
      "text/plain": [
       "array([[1, 2, 3, 3],\n",
       "       [2, 2, 4, 4]])"
      ]
     },
     "execution_count": 81,
     "metadata": {},
     "output_type": "execute_result"
    }
   ],
   "source": [
    "a1 = np.array([[1,2],\n",
    "              [2,2]])\n",
    "\n",
    "a2 = np.array([[3,3],\n",
    "              [4,4]])\n",
    "\n",
    "np.hstack((a1,a2))\n"
   ]
  },
  {
   "cell_type": "markdown",
   "id": "5ff5e25d",
   "metadata": {},
   "source": [
    "# assignments"
   ]
  },
  {
   "cell_type": "code",
   "execution_count": 3,
   "id": "5cdca549",
   "metadata": {},
   "outputs": [
    {
     "name": "stdout",
     "output_type": "stream",
     "text": [
      "[[1 2 3]\n",
      " [4 5 6]\n",
      " [7 8 9]]\n"
     ]
    }
   ],
   "source": [
    "#1-Create a NumPy array a with values 1 through 9. Reshape the array to a 3x3 matrix.\n",
    "\n",
    "import numpy as np\n",
    "a=np.array([1,2,3,4,5,6,7,8,9])\n",
    "b = a.reshape(3,3)\n",
    "print(b)"
   ]
  },
  {
   "cell_type": "code",
   "execution_count": 4,
   "id": "444123a4",
   "metadata": {},
   "outputs": [
    {
     "name": "stdout",
     "output_type": "stream",
     "text": [
      "[[ 5  6  7]\n",
      " [ 8  9 10]\n",
      " [11 12 13]]\n"
     ]
    }
   ],
   "source": [
    "#2. Create a NumPy array b with values 5 through 13. Reshape the array to a 3x3 matrix.\n",
    "\n",
    "import numpy as np\n",
    "a=np.array([5,6,7,8,9,10,11,12,13])\n",
    "b = a.reshape(3,3)\n",
    "print(b)"
   ]
  },
  {
   "cell_type": "code",
   "execution_count": 11,
   "id": "c06438b3",
   "metadata": {},
   "outputs": [
    {
     "name": "stdout",
     "output_type": "stream",
     "text": [
      "[[ 7  7]\n",
      " [14 14]]\n"
     ]
    }
   ],
   "source": [
    "#3. Multiply the matrix a by the matrix b using the @ operator\n",
    "\n",
    "import numpy as np\n",
    "a = np.array([[1,1],\n",
    "              [2,2]])\n",
    "\n",
    "b = np.array([[3,3],\n",
    "              [4,4]])\n",
    "s=a@b\n",
    "print(s)"
   ]
  },
  {
   "cell_type": "code",
   "execution_count": 12,
   "id": "1a73ce82",
   "metadata": {},
   "outputs": [
    {
     "name": "stdout",
     "output_type": "stream",
     "text": [
      "7\n"
     ]
    }
   ],
   "source": [
    "#4. Compute the dot product of the first row of a with the first column of b.\n",
    "\n",
    "a = np.array([[1,1],\n",
    "              [2,2]])\n",
    "\n",
    "b = np.array([[3,3],\n",
    "              [4,4]])\n",
    "first_row_a = a[0, :]\n",
    "first_col_b = b[:, 0]\n",
    "dot_product_result = np.dot(first_row_a, first_col_b)\n",
    "\n",
    "print(dot_product_result)\n"
   ]
  },
  {
   "cell_type": "code",
   "execution_count": 17,
   "id": "9e2e176e",
   "metadata": {},
   "outputs": [
    {
     "name": "stdout",
     "output_type": "stream",
     "text": [
      "126\n"
     ]
    }
   ],
   "source": [
    "#5. Compute the sum of all the elements in the matrix a.\n",
    "import numpy as np\n",
    "a=np.array([[10, 11, 12],\n",
    "              [13, 14, 15],\n",
    "              [16, 17, 18]])\n",
    "sum1 = np.sum(a)\n",
    "print(sum1)"
   ]
  },
  {
   "cell_type": "code",
   "execution_count": 20,
   "id": "9951e391",
   "metadata": {},
   "outputs": [
    {
     "name": "stdout",
     "output_type": "stream",
     "text": [
      "120\n"
     ]
    }
   ],
   "source": [
    "#6. Compute the product of all the elements in the matrix b.\n",
    "import numpy as np\n",
    "b=np.array([[2,3],\n",
    "           [4,5]])\n",
    "product = np.prod(b)\n",
    "print(product)"
   ]
  },
  {
   "cell_type": "code",
   "execution_count": 22,
   "id": "229c565e",
   "metadata": {},
   "outputs": [
    {
     "name": "stdout",
     "output_type": "stream",
     "text": [
      "[1 2 0 3 4 5]\n"
     ]
    }
   ],
   "source": [
    "#7. Create a 1D NumPy array c with values [1, 2, 3, 4, 5]. Use the np.insert() function to insert the value 0 at index 2.\n",
    "import numpy as np\n",
    "c=[1, 2, 3, 4, 5]\n",
    "result = np.insert(c,2,0)\n",
    "print(result)"
   ]
  },
  {
   "cell_type": "code",
   "execution_count": 24,
   "id": "7bbf1d01",
   "metadata": {},
   "outputs": [
    {
     "name": "stdout",
     "output_type": "stream",
     "text": [
      "[1 2 3 5]\n"
     ]
    }
   ],
   "source": [
    "#8. Create a 1D NumPy array d with values [1, 2, 3, 4, 5]. Use the np.delete() function to delete the value at index 3.\n",
    "import numpy as np\n",
    "d=[1, 2, 3, 4, 5]\n",
    "result = np.delete(d,3)\n",
    "print(result)"
   ]
  },
  {
   "cell_type": "code",
   "execution_count": 28,
   "id": "16dc2a33",
   "metadata": {},
   "outputs": [
    {
     "name": "stdout",
     "output_type": "stream",
     "text": [
      "[ 6  7  8  9 10 11 12]\n"
     ]
    }
   ],
   "source": [
    "#9. Create a 2D NumPy array e with dimensions 3x4 and values 1 through 12. Use boolean indexing to\n",
    "#select all elements greater than 5.\n",
    "import numpy as np\n",
    "e=np.array([[1,2,3,4],\n",
    "             [5,6,7,8],\n",
    "             [9,10,11,12]])\n",
    "\n",
    "print(e[e>5])"
   ]
  },
  {
   "cell_type": "code",
   "execution_count": 30,
   "id": "cf8c6969",
   "metadata": {},
   "outputs": [
    {
     "name": "stdout",
     "output_type": "stream",
     "text": [
      "\n",
      "Selected elements at positions (0, 0), (1, 2), and (2, 4): [ 1  8 15]\n"
     ]
    }
   ],
   "source": [
    "#10. Create a 2D NumPy array f with dimensions 4x5 and values 1 through 20. Use fancy indexing to\n",
    "#select the elements at positions (0,0), (1,2), and (2,4)\n",
    "\n",
    "#select all elements greater than 5.\n",
    "import numpy as np\n",
    "f=np.array([[1,2,3,4,5],\n",
    "             [6,7,8,9,10],\n",
    "             [11,12,13,14,15],\n",
    "             [16,17,18,19,20]])\n",
    "selected_elements = f[[0, 1, 2], [0, 2, 4]]\n",
    "\n",
    "print(\"\\nSelected elements at positions (0, 0), (1, 2), and (2, 4):\",selected_elements)\n"
   ]
  },
  {
   "cell_type": "code",
   "execution_count": 44,
   "id": "c75dd60f",
   "metadata": {},
   "outputs": [
    {
     "name": "stdout",
     "output_type": "stream",
     "text": [
      "[[0.5 0.  0.  0.  0. ]\n",
      " [0.  0.5 0.  0.  0. ]\n",
      " [0.  0.  0.5 0.  0. ]\n",
      " [0.  0.  0.  0.5 0. ]\n",
      " [0.  0.  0.  0.  0.5]]\n"
     ]
    }
   ],
   "source": [
    "#. Create a 2D NumPy array a with dimensions 5x5 and values 0.5 in the diagonal and 0 elsewhere.\n",
    "import numpy as np\n",
    "a = np.zeros((5,5))\n",
    "np.fill_diagonal(a, 0.5)\n",
    "print(a)"
   ]
  },
  {
   "cell_type": "code",
   "execution_count": 52,
   "id": "96433d79",
   "metadata": {},
   "outputs": [
    {
     "name": "stdout",
     "output_type": "stream",
     "text": [
      "[[[4 2 7]\n",
      "  [1 1 7]\n",
      "  [2 8 0]]\n",
      "\n",
      " [[4 1 0]\n",
      "  [6 1 5]\n",
      "  [4 9 3]]\n",
      "\n",
      " [[5 1 4]\n",
      "  [4 5 1]\n",
      "  [0 8 7]]]\n"
     ]
    }
   ],
   "source": [
    "#12. Create a 3D NumPy array b with dimensions 3x3x3 and random integer values between 0 and 10.\n",
    "import numpy as np\n",
    "b = np.random.randint(0, 11, size=(3, 3, 3))\n",
    "print(b)"
   ]
  },
  {
   "cell_type": "code",
   "execution_count": 55,
   "id": "7a794411",
   "metadata": {},
   "outputs": [
    {
     "name": "stdout",
     "output_type": "stream",
     "text": [
      "[[3.         5.33333333 2.66666667]\n",
      " [4.66666667 4.33333333 9.33333333]\n",
      " [6.33333333 1.66666667 7.33333333]]\n"
     ]
    }
   ],
   "source": [
    "#13. Compute the mean of each row of the matrix b\n",
    "import numpy as np\n",
    "import numpy as np\n",
    "b = np.random.randint(0, 11, size=(3, 3, 3))\n",
    "mean_of_rows = np.mean(b, axis=2)\n",
    "print(mean_of_rows)"
   ]
  },
  {
   "cell_type": "code",
   "execution_count": 60,
   "id": "86014ea1",
   "metadata": {},
   "outputs": [
    {
     "name": "stdout",
     "output_type": "stream",
     "text": [
      "[[1.69967317 3.09120617 3.55902608]\n",
      " [2.1602469  2.62466929 3.39934634]\n",
      " [1.69967317 0.81649658 0.47140452]]\n"
     ]
    }
   ],
   "source": [
    "#14. Compute the standard deviation of each column of the matrix a.\n",
    "\n",
    "import numpy as np\n",
    "b = np.random.randint(0, 11, size=(3,3,3))\n",
    "sd= np.std(b, axis=1)\n",
    "print(sd)"
   ]
  },
  {
   "cell_type": "code",
   "execution_count": 62,
   "id": "296326da",
   "metadata": {},
   "outputs": [
    {
     "name": "stdout",
     "output_type": "stream",
     "text": [
      "[[ 5 11]\n",
      " [11 25]]\n"
     ]
    }
   ],
   "source": [
    "#15. Compute the matrix multiplication of a with its transpose.\n",
    "import numpy as np\n",
    "a=np.array([[1,2],\n",
    "           [3,4]])\n",
    "a_T=a.T\n",
    "product=a@a_T\n",
    "print(product)"
   ]
  },
  {
   "cell_type": "code",
   "execution_count": 72,
   "id": "2dc1d001",
   "metadata": {},
   "outputs": [
    {
     "name": "stdout",
     "output_type": "stream",
     "text": [
      "[[1. 0. 0. 0. 0. 0.]\n",
      " [0. 1. 0. 0. 0. 0.]\n",
      " [0. 0. 1. 0. 0. 0.]\n",
      " [0. 0. 0. 1. 0. 0.]\n",
      " [0. 0. 0. 0. 1. 0.]\n",
      " [0. 0. 0. 0. 0. 1.]]\n",
      "\n",
      "Array 'c' after shifting each row to the right:\n",
      "[[0. 1. 0. 0. 0. 0.]\n",
      " [0. 0. 1. 0. 0. 0.]\n",
      " [0. 0. 0. 1. 0. 0.]\n",
      " [0. 0. 0. 0. 1. 0.]\n",
      " [0. 0. 0. 0. 0. 1.]\n",
      " [1. 0. 0. 0. 0. 0.]]\n"
     ]
    }
   ],
   "source": [
    "#16. Create a 2D NumPy array c with dimensions 6x6 and values 1 in the diagonal and 0 elsewhere.\n",
    "#Use the np.roll() function to shift\n",
    "#the values in each row to the right by one position.\n",
    "\n",
    "import numpy as np\n",
    "c = np.eye(6)\n",
    "print(c)\n",
    "c_shifted = np.roll(c, 1, axis=1)\n",
    "print(\"\\nArray 'c' after shifting each row to the right:\")\n",
    "print(c_shifted)"
   ]
  },
  {
   "cell_type": "code",
   "execution_count": 80,
   "id": "a6b8e151",
   "metadata": {},
   "outputs": [
    {
     "name": "stdout",
     "output_type": "stream",
     "text": [
      "[[0.95136131 0.78256233 0.77540607 0.87317178]\n",
      " [0.47292875 0.02181631 0.77212412 0.17590967]\n",
      " [0.18661138 0.10678736 0.51578568 0.95579111]\n",
      " [0.12073827 0.46867415 0.93037641 0.06625345]]\n",
      "\n",
      "Normalized array 'd':\n",
      "[[0.28125969 0.23135609 0.22924042 0.2581438 ]\n",
      " [0.32779019 0.01512103 0.53516457 0.12192421]\n",
      " [0.10573029 0.06050359 0.2922339  0.54153221]\n",
      " [0.07612551 0.29549915 0.58660253 0.04177282]]\n",
      "sumof first raw\n",
      "1.0\n"
     ]
    }
   ],
   "source": [
    "# 17. Create a 2D NumPy array d with dimensions 4x4 and random values between 0 and 1. \n",
    "#Normalize the values in each row to have a sum of 1.\n",
    "import numpy as np\n",
    "d = np.random.rand(4,4)\n",
    "print(d)\n",
    "normalized_d = d / d.sum(axis=1, keepdims=True)\n",
    "\n",
    "print(\"\\nNormalized array 'd':\")\n",
    "print(normalized_d)\n",
    "first_row = sum(normalized_d[0])\n",
    "print(\"sumof first raw\")\n",
    "print(first_row)\n"
   ]
  },
  {
   "cell_type": "code",
   "execution_count": 89,
   "id": "a3ddbd23",
   "metadata": {},
   "outputs": [
    {
     "name": "stdout",
     "output_type": "stream",
     "text": [
      "[[1 2 3]\n",
      " [4 5 6]\n",
      " [7 8 9]]\n",
      "[[7 8 9]\n",
      " [4 5 6]\n",
      " [1 2 3]]\n"
     ]
    }
   ],
   "source": [
    "#18. Create a 2D NumPy array e with dimensions 3x3 and values 1 through 9.\n",
    "#Use the np.flipud() function to flip the matrix vertically.\n",
    "import numpy as np\n",
    "d = np.arange(1, 10).reshape(3, 3)\n",
    "print(d)\n",
    "d_flipped = np.flipud(d)\n",
    "print(d_flipped)"
   ]
  },
  {
   "cell_type": "code",
   "execution_count": null,
   "id": "d8144992",
   "metadata": {},
   "outputs": [],
   "source": [
    " "
   ]
  }
 ],
 "metadata": {
  "kernelspec": {
   "display_name": "Python 3 (ipykernel)",
   "language": "python",
   "name": "python3"
  },
  "language_info": {
   "codemirror_mode": {
    "name": "ipython",
    "version": 3
   },
   "file_extension": ".py",
   "mimetype": "text/x-python",
   "name": "python",
   "nbconvert_exporter": "python",
   "pygments_lexer": "ipython3",
   "version": "3.11.5"
  }
 },
 "nbformat": 4,
 "nbformat_minor": 5
}
